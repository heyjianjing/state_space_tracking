{
  "nbformat": 4,
  "nbformat_minor": 0,
  "metadata": {
    "colab": {
      "provenance": []
    },
    "kernelspec": {
      "name": "python3",
      "display_name": "Python 3"
    },
    "language_info": {
      "name": "python"
    }
  },
  "cells": [
    {
      "cell_type": "markdown",
      "source": [
        "#### Motivation"
      ],
      "metadata": {
        "id": "6jv35uXRZXSR"
      }
    },
    {
      "cell_type": "markdown",
      "source": [
        "For a system with state $x$ and observation $y$, we define state space model $f_n$ and observation model $h_n$ as\n",
        "\n",
        "$$\\begin{align*}x_{n+1}&=f_n(x_n, u_n)\\\\\n",
        "y_n&=h_n(x_n, v_n)\n",
        "\\end{align*}$$\n",
        "\n",
        "Primary goal: estimate state of system $x_n$ at some time step $n$, given a sequence of observations $y_{1:n}$, with $u_n, v_n$ being noise terms\n",
        "\n",
        "So, what is a `good` estimator?"
      ],
      "metadata": {
        "id": "IbAJK0-eZZIL"
      }
    },
    {
      "cell_type": "markdown",
      "source": [
        "#### Bias"
      ],
      "metadata": {
        "id": "9SdTlYLmaMR1"
      }
    },
    {
      "cell_type": "markdown",
      "source": [
        "`Bias` of an estimator $\\hat{x}$ of a parameter $x$ is defined as\n",
        "\n",
        "$$B(\\hat{x})=\\mathbb{E}[\\hat{x}]-x$$\n",
        "\n",
        "An estimator is said to be unbiased when $B(\\hat{x})=0$"
      ],
      "metadata": {
        "id": "Uh1v9eD3aOCS"
      }
    },
    {
      "cell_type": "markdown",
      "source": [
        "#### Variance"
      ],
      "metadata": {
        "id": "ssLZW7JwavaW"
      }
    },
    {
      "cell_type": "markdown",
      "source": [
        "`Variance` of an estimator $\\hat{x}$ of a parameter $x$ is defined as\n",
        "\n",
        "$$\\text{var}(\\hat{x})=\\sigma_{\\hat{x}}^2=\\mathbb{E}\\left[\\left(\\hat{x}-\\mathbb{E}[\\hat{x}]\\right)^2\\right]$$\n",
        "\n",
        "We would like variance to be as small as possible"
      ],
      "metadata": {
        "id": "d_M4x6fPaww0"
      }
    },
    {
      "cell_type": "markdown",
      "source": [
        "#### Distribution and likelihood"
      ],
      "metadata": {
        "id": "EhUtuLaDDtCU"
      }
    },
    {
      "cell_type": "markdown",
      "source": [
        "Assume we have a system with in put $x$ and output $y$, with\n",
        "\n",
        "$$y=x+v, v\\sim N(0, \\sigma^2)$$\n",
        "\n",
        "Suppose we obtain a single observation $y$, we can write\n",
        "\n",
        "$$p(y|x)=\\frac{1}{\\sqrt{2\\pi \\sigma^2}}\\exp \\left[-\\frac{1}{2\\sigma^2}(y-x)^2\\right]$$\n",
        "\n",
        "Here, $x$ is the `parameter` we want to estimate and $y$ is observed value, or `data`"
      ],
      "metadata": {
        "id": "hE8gyFYMDwaM"
      }
    },
    {
      "cell_type": "markdown",
      "source": [
        "When $x$ is given, this is a probability `distribution` (i.e., PDF) of $y$ parameterized by $x$\n",
        "\n",
        "However, when $y$ is given, this is a `likelihood function` of parameter $x$ (which is no longer a distribution and does not have to integrate to one over $x$)"
      ],
      "metadata": {
        "id": "6an_8P1pEyAJ"
      }
    },
    {
      "cell_type": "markdown",
      "source": [
        "The $\\hat{x}$ obtained by maximizing this likelihood function is known as `maximum likelihood` (ML) estimator\n",
        "\n",
        "From the expression, it is not difficult to see that it minimizes the mean square error for Gaussian distribution\n",
        "\n",
        "$$\\hat{x}=\\arg \\max_{x}p(y|x) = \\arg \\min_x (y-x)^2$$\n",
        "\n",
        "and the estimator is $\\hat{x}=y$"
      ],
      "metadata": {
        "id": "kFMtv8M8Fjmu"
      }
    },
    {
      "cell_type": "markdown",
      "source": [
        "#### What-if we have some prior knowledge about the parameter?"
      ],
      "metadata": {
        "id": "WVgawhuMmI_4"
      }
    },
    {
      "cell_type": "markdown",
      "source": [
        "Suppose we know that\n",
        "\n",
        "$$x_{\\min}\\leq x \\leq x_{\\max}$$\n",
        "\n",
        "A simple choice would be a truncated version given we already know the ML estimator $\\hat{x}=y$\n",
        "\n",
        "$$\\hat{x}=\\left\\{\\begin{array}{ll}x_{\\min} & y< x_{\\min} \\\\\n",
        "y & x_{\\min}\\leq y \\leq x_{\\max} \\\\\n",
        "x_{\\max} & x_{\\max}< y\\end{array}\\right.$$"
      ],
      "metadata": {
        "id": "bRRfiw7NmMiq"
      }
    },
    {
      "cell_type": "code",
      "source": [],
      "metadata": {
        "id": "JcHfOapMZYrZ"
      },
      "execution_count": null,
      "outputs": []
    }
  ]
}