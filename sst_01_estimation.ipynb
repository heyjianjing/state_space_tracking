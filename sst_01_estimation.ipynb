{
  "nbformat": 4,
  "nbformat_minor": 0,
  "metadata": {
    "colab": {
      "provenance": []
    },
    "kernelspec": {
      "name": "python3",
      "display_name": "Python 3"
    },
    "language_info": {
      "name": "python"
    }
  },
  "cells": [
    {
      "cell_type": "markdown",
      "source": [
        "#### Motivation"
      ],
      "metadata": {
        "id": "6jv35uXRZXSR"
      }
    },
    {
      "cell_type": "markdown",
      "source": [
        "For a system with state $x$ and observation $y$, we define state space model $f_n$ and observation model $h_n$ as\n",
        "\n",
        "$$\\begin{align*}x_{n+1}&=f_n(x_n, u_n)\\\\\n",
        "y_n&=h_n(x_n, v_n)\n",
        "\\end{align*}$$\n",
        "\n",
        "Primary goal: estimate state of system $x_n$ at some time step $n$, given a sequence of observations $y_{1:n}$, with $u_n, v_n$ being noise terms\n",
        "\n",
        "So, what is a `good` estimator?"
      ],
      "metadata": {
        "id": "IbAJK0-eZZIL"
      }
    },
    {
      "cell_type": "markdown",
      "source": [
        "#### Bias"
      ],
      "metadata": {
        "id": "9SdTlYLmaMR1"
      }
    },
    {
      "cell_type": "markdown",
      "source": [
        "`Bias` of an estimator $\\hat{x}$ of a parameter $x$ is defined as\n",
        "\n",
        "$$B(\\hat{x})=\\mathbb{E}[\\hat{x}]-x$$\n",
        "\n",
        "An estimator is said to be unbiased when $B(\\hat{x})=0$"
      ],
      "metadata": {
        "id": "Uh1v9eD3aOCS"
      }
    },
    {
      "cell_type": "markdown",
      "source": [
        "#### Variance"
      ],
      "metadata": {
        "id": "ssLZW7JwavaW"
      }
    },
    {
      "cell_type": "markdown",
      "source": [
        "`Variance` of an estimator $\\hat{x}$ of a parameter $x$ is defined as\n",
        "\n",
        "$$\\text{var}(\\hat{x})=\\sigma_{\\hat{x}}^2=\\mathbb{E}\\left[\\left(\\hat{x}-\\mathbb{E}[\\hat{x}]\\right)^2\\right]$$\n",
        "\n",
        "We would like variance to be as small as possible"
      ],
      "metadata": {
        "id": "d_M4x6fPaww0"
      }
    },
    {
      "cell_type": "markdown",
      "source": [
        "#### Distribution and likelihood"
      ],
      "metadata": {
        "id": "EhUtuLaDDtCU"
      }
    },
    {
      "cell_type": "markdown",
      "source": [
        "Assume we have a system with in put $x$ and output $y$, with\n",
        "\n",
        "$$y=x+v, v\\sim N(0, \\sigma^2)$$\n",
        "\n",
        "Suppose we obtain a single observation $y$, we can write out estimator of $\\hat{x}$ as\n",
        "\n",
        "$$p(y|x)=\\frac{1}{\\sqrt{2\\pi \\sigma^2}}\\exp \\left[-\\frac{1}{2\\sigma^2}(y-x)^2\\right]$$\n",
        "\n",
        "Here, $x$ is the `parameter` we want to estimate and $y$ is observed value, or `data`"
      ],
      "metadata": {
        "id": "hE8gyFYMDwaM"
      }
    },
    {
      "cell_type": "markdown",
      "source": [
        "When $x$ is given, this is a probability `distribution` (i.e., PDF) of $y$ parameterized by $x$\n",
        "\n",
        "However, when $y$ is given, this is a `likelihood function` of parameter $x$ (which is no longer a distribution and integration over area underneath does not have to be one)"
      ],
      "metadata": {
        "id": "6an_8P1pEyAJ"
      }
    },
    {
      "cell_type": "markdown",
      "source": [
        "The $\\hat{x}$ obtained by maximizing this likelihood function is known as `maximum likelihood estimator`\n",
        "\n",
        "From the expression, it is not difficult to see that it minimizes the mean square error for Gaussian distribution"
      ],
      "metadata": {
        "id": "kFMtv8M8Fjmu"
      }
    },
    {
      "cell_type": "code",
      "source": [],
      "metadata": {
        "id": "JcHfOapMZYrZ"
      },
      "execution_count": null,
      "outputs": []
    }
  ]
}