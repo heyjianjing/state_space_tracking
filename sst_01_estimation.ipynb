{
  "nbformat": 4,
  "nbformat_minor": 0,
  "metadata": {
    "colab": {
      "provenance": []
    },
    "kernelspec": {
      "name": "python3",
      "display_name": "Python 3"
    },
    "language_info": {
      "name": "python"
    }
  },
  "cells": [
    {
      "cell_type": "markdown",
      "source": [
        "#### Motivation"
      ],
      "metadata": {
        "id": "6jv35uXRZXSR"
      }
    },
    {
      "cell_type": "markdown",
      "source": [
        "For a system with state $x$ and observation $y$, we define state space model $f_n$ and observation model $h_n$ as\n",
        "\n",
        "$$\\begin{align*}x_{n+1}&=f_n(x_n, u_n)\\\\\n",
        "y_n&=h_n(x_n, v_n)\n",
        "\\end{align*}$$\n",
        "\n",
        "Primary goal: estimate state of system $x_n$ at some time step $n$, given a sequence of observations $y_{1:n}$, with $u_n, v_n$ being noise terms\n",
        "\n",
        "So, what is a `good` estimator?"
      ],
      "metadata": {
        "id": "IbAJK0-eZZIL"
      }
    },
    {
      "cell_type": "markdown",
      "source": [
        "#### Bias"
      ],
      "metadata": {
        "id": "9SdTlYLmaMR1"
      }
    },
    {
      "cell_type": "markdown",
      "source": [
        "`Bias` of an estimator $\\hat{x}$ of a parameter $x$ is defined as\n",
        "\n",
        "$$B(\\hat{x})=\\mathbb{E}[\\hat{x}]-x$$\n",
        "\n",
        "An estimator is said to be unbiased when $B(\\hat{x})=0$"
      ],
      "metadata": {
        "id": "Uh1v9eD3aOCS"
      }
    },
    {
      "cell_type": "markdown",
      "source": [
        "#### Variance"
      ],
      "metadata": {
        "id": "ssLZW7JwavaW"
      }
    },
    {
      "cell_type": "markdown",
      "source": [
        "`Variance` of an estimator $\\hat{x}$ of a parameter $x$ is defined as\n",
        "\n",
        "$$\\text{var}(\\hat{x})=\\sigma_{\\hat{x}}^2=\\mathbb{E}\\left[\\left(\\hat{x}-\\mathbb{E}[\\hat{x}]\\right)^2\\right]$$\n",
        "\n",
        "We would like variance to be as small as possible"
      ],
      "metadata": {
        "id": "d_M4x6fPaww0"
      }
    },
    {
      "cell_type": "code",
      "source": [],
      "metadata": {
        "id": "JcHfOapMZYrZ"
      },
      "execution_count": null,
      "outputs": []
    }
  ]
}