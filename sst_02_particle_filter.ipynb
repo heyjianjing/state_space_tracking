{
  "nbformat": 4,
  "nbformat_minor": 0,
  "metadata": {
    "colab": {
      "provenance": [],
      "toc_visible": true
    },
    "kernelspec": {
      "name": "python3",
      "display_name": "Python 3"
    },
    "language_info": {
      "name": "python"
    }
  },
  "cells": [
    {
      "cell_type": "markdown",
      "source": [
        "#### Monte Carlo integration"
      ],
      "metadata": {
        "id": "XCF-rYr4_Qw-"
      }
    },
    {
      "cell_type": "markdown",
      "source": [
        "Previously from Bayesian optimal tracking\n",
        "\n",
        "* Prediction step\n",
        "\n",
        "$$\\begin{align*}\n",
        "p(x_n|y_{0:n-1})=\\int p(x_n| x_{n-1})p(x_{n-1}|y_{0:n-1})dx_{n-1}\\\\\n",
        "\\end{align*}$$\n",
        "\n",
        "* Update step\n",
        "\n",
        "$$p(x_n|y_{0:n})=\\frac{p(y_n|x_n)}{p(y_n|y_{0:n-1})}p(x_n|y_{0:n-1})$$\n",
        "\n",
        "we see that the integral in prediction step is really causing the headache, Monte Carlo (MC) integration is a possible way out of this"
      ],
      "metadata": {
        "id": "64c9YGIzDtdh"
      }
    },
    {
      "cell_type": "markdown",
      "source": [
        "For the integral\n",
        "\n",
        "$$\\mu =\\int g(x)dx$$\n",
        "\n",
        "the idea of MC integration is first to factor $g(x)$ as $g(x)=f(x)p(x)$, where $p(x)$ is some PDF\n",
        "\n",
        "$$p(x)\\geq 0, \\int p(x) dx =1$$\n",
        "\n",
        "(and $p(x)>0$ wherever $g(x)>0$)\n",
        "\n",
        "Then, by definition, this integral becomes expected value\n",
        "\n",
        "$$\\mu =\\mathbb{E}[f(x)]$$"
      ],
      "metadata": {
        "id": "46DLlV9tEVuz"
      }
    },
    {
      "cell_type": "markdown",
      "source": [
        "Suppose we can draw a large number of `independent` samples from $p(x)$, then, we can use samples to approximate the integral as\n",
        "\n",
        "$$\\begin{align*}\n",
        "\\mu&=\\int g(x)dx \\\\\n",
        "&=\\int f(x) p(x) dx\\\\\n",
        "&=\\mathbb{E}[f(x)]\\\\\n",
        "& \\approx \\hat{\\mu}_N\\\\\n",
        "&=\\frac{1}{N}\\sum_{i=1}^N f(x^i)\n",
        "\\end{align*}$$\n",
        "\n",
        "where $x^i$ denotes the ith sample from $p(x)$"
      ],
      "metadata": {
        "id": "vv7yhk7WFpDJ"
      }
    },
    {
      "cell_type": "code",
      "source": [],
      "metadata": {
        "id": "6j5544y1inXl"
      },
      "execution_count": null,
      "outputs": []
    }
  ]
}